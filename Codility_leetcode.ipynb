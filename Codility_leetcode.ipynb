{
 "cells": [
  {
   "cell_type": "markdown",
   "id": "b49e817e",
   "metadata": {},
   "source": [
    "Coldility and leetcode tasks"
   ]
  },
  {
   "cell_type": "markdown",
   "id": "e3f6f3c2",
   "metadata": {},
   "source": [
    "Updating the index value based on the values in array"
   ]
  },
  {
   "cell_type": "code",
   "execution_count": 4,
   "id": "099f8639",
   "metadata": {},
   "outputs": [],
   "source": [
    "def MaxCounterSolution (N, A):\n",
    "    counters = [0] * N # number_of_counters\n",
    "    for K in A:\n",
    "        if 1 <= K <= N:\n",
    "            counters[K-1] += 1\n",
    "        elif K > N:\n",
    "            max_value = max(counters)\n",
    "            for index in range(len(counters)):\n",
    "                counters[index] = max_value\n",
    "    return counters"
   ]
  },
  {
   "cell_type": "code",
   "execution_count": 5,
   "id": "96e9947f",
   "metadata": {},
   "outputs": [
    {
     "name": "stdout",
     "output_type": "stream",
     "text": [
      "[1, 1, 1, 1]\n"
     ]
    }
   ],
   "source": [
    "print(MaxCounterSolution(4,[1,2,4,5,6,7]))"
   ]
  },
  {
   "cell_type": "code",
   "execution_count": 6,
   "id": "cddf5bab",
   "metadata": {},
   "outputs": [
    {
     "name": "stdout",
     "output_type": "stream",
     "text": [
      "[3, 2, 2, 4, 2]\n"
     ]
    }
   ],
   "source": [
    "N = 5\n",
    "A = [3, 4, 4, 6, 1, 4, 4]\n",
    "print(MaxCounterSolution(N, A))"
   ]
  },
  {
   "cell_type": "markdown",
   "id": "3619c5f2",
   "metadata": {},
   "source": [
    "finding the missing element in the array"
   ]
  },
  {
   "cell_type": "code",
   "execution_count": 8,
   "id": "22b6b239",
   "metadata": {},
   "outputs": [],
   "source": [
    "def MissingSolution(A):\n",
    "    z = list(range(1,len(A)+1))\n",
    "    try:\n",
    "        result = set(z).difference(set(A)).pop()\n",
    "    except:\n",
    "        result = max(A)+1\n",
    "    return result"
   ]
  },
  {
   "cell_type": "code",
   "execution_count": 12,
   "id": "4c8becb8",
   "metadata": {},
   "outputs": [
    {
     "name": "stdout",
     "output_type": "stream",
     "text": [
      "2\n"
     ]
    }
   ],
   "source": [
    "print(MissingSolution([0,1,3,4,5,7]))"
   ]
  },
  {
   "cell_type": "markdown",
   "id": "9c69e8cb",
   "metadata": {},
   "source": [
    "Genetic count"
   ]
  },
  {
   "cell_type": "code",
   "execution_count": 14,
   "id": "0e81deae",
   "metadata": {},
   "outputs": [
    {
     "name": "stdout",
     "output_type": "stream",
     "text": [
      "GCC\n",
      "T\n",
      "CAGCCTA\n"
     ]
    },
    {
     "data": {
      "text/plain": [
       "[2, 4, 1]"
      ]
     },
     "execution_count": 14,
     "metadata": {},
     "output_type": "execute_result"
    }
   ],
   "source": [
    "def solution(s,p,q):\n",
    "    n = len(p)\n",
    "    r = [0]*n\n",
    "    \n",
    "    for i in range(n):\n",
    "        pi=p[i]\n",
    "        qi=q[i]+1\n",
    "        ts=s[pi:qi]\n",
    "        print(ts)\n",
    "        if 'A' in ts:\n",
    "            r[i]=1\n",
    "        elif 'C' in ts:\n",
    "            r[i]=2\n",
    "        elif 'G' in ts:\n",
    "            r[i]=3\n",
    "        elif 'T' in ts:\n",
    "            r[i]=4\n",
    "    return r\n",
    "\n",
    "s,p,q = 'CAGCCTA', [2, 5, 0], [4, 5, 6]\n",
    "solution(s,p,q)"
   ]
  },
  {
   "cell_type": "code",
   "execution_count": 20,
   "id": "4440e9c9",
   "metadata": {},
   "outputs": [],
   "source": [
    "def solution(S):\n",
    "    opened, closed, stack_ = {'{':1,'[':2,'(':3}, {'}':1,']':2,')':3}, [] # dict allows as reduce time comlexity\n",
    "    print(opened)\n",
    "    print(closed)\n",
    "    print(stack_)\n",
    "    for i in S:\n",
    "        if i in opened:\n",
    "            stack_.append(opened[i])\n",
    "        elif len(stack_) == 0 or closed[i] != stack_.pop():\n",
    "                return 0\n",
    "    return 1 if len(stack_) == 0 else 0"
   ]
  },
  {
   "cell_type": "code",
   "execution_count": 21,
   "id": "23e75cb7",
   "metadata": {},
   "outputs": [
    {
     "name": "stdout",
     "output_type": "stream",
     "text": [
      "{'{': 1, '[': 2, '(': 3}\n",
      "{'}': 1, ']': 2, ')': 3}\n",
      "[]\n"
     ]
    },
    {
     "data": {
      "text/plain": [
       "0"
      ]
     },
     "execution_count": 21,
     "metadata": {},
     "output_type": "execute_result"
    }
   ],
   "source": [
    "solution(\")))()(()()(((()())(()()))\") "
   ]
  },
  {
   "cell_type": "markdown",
   "id": "dd41627e",
   "metadata": {},
   "source": [
    "Binary gap values count"
   ]
  },
  {
   "cell_type": "code",
   "execution_count": 48,
   "id": "4253a96f",
   "metadata": {},
   "outputs": [],
   "source": [
    "def solution(N):\n",
    "    return len(max(format(N, \"b\").strip('0').split('1'), key=len))\n",
    "    #return len(max(format(N, \"b\").strip('0').split('1')))"
   ]
  },
  {
   "cell_type": "code",
   "execution_count": 49,
   "id": "7d1a8cb3",
   "metadata": {},
   "outputs": [
    {
     "data": {
      "text/plain": [
       "0"
      ]
     },
     "execution_count": 49,
     "metadata": {},
     "output_type": "execute_result"
    }
   ],
   "source": [
    "solution(12)"
   ]
  },
  {
   "cell_type": "code",
   "execution_count": 45,
   "id": "53e5b80d",
   "metadata": {},
   "outputs": [
    {
     "data": {
      "text/plain": [
       "0"
      ]
     },
     "execution_count": 45,
     "metadata": {},
     "output_type": "execute_result"
    }
   ],
   "source": [
    "len(max(format(12, \"b\").strip('0').split('1'), key=len))"
   ]
  },
  {
   "cell_type": "code",
   "execution_count": 42,
   "id": "13761227",
   "metadata": {},
   "outputs": [
    {
     "data": {
      "text/plain": [
       "'1100'"
      ]
     },
     "execution_count": 42,
     "metadata": {},
     "output_type": "execute_result"
    }
   ],
   "source": [
    "format(12, \"b\")"
   ]
  },
  {
   "cell_type": "code",
   "execution_count": 43,
   "id": "32d9dc56",
   "metadata": {},
   "outputs": [
    {
     "data": {
      "text/plain": [
       "'0b1100'"
      ]
     },
     "execution_count": 43,
     "metadata": {},
     "output_type": "execute_result"
    }
   ],
   "source": [
    "bin(12)"
   ]
  },
  {
   "cell_type": "markdown",
   "id": "10243ee0",
   "metadata": {},
   "source": [
    "frog jump based on the step size"
   ]
  },
  {
   "cell_type": "code",
   "execution_count": 72,
   "id": "b21e76f3",
   "metadata": {},
   "outputs": [],
   "source": [
    "def solution(A, B, K):\n",
    "    if A % K == 0:\n",
    "        #print(A)\n",
    "        return ((B - A) // K) + 1\n",
    "    else:\n",
    "        return (B - (A - A % K )) // K"
   ]
  },
  {
   "cell_type": "code",
   "execution_count": 75,
   "id": "6a025ca8",
   "metadata": {},
   "outputs": [
    {
     "data": {
      "text/plain": [
       "0"
      ]
     },
     "execution_count": 75,
     "metadata": {},
     "output_type": "execute_result"
    }
   ],
   "source": [
    "solution([52, 30, 8])"
   ]
  },
  {
   "cell_type": "code",
   "execution_count": 74,
   "id": "8f6dc17e",
   "metadata": {},
   "outputs": [],
   "source": [
    "def solution(A):\n",
    "    if len(A) < 3:\n",
    "        return 0\n",
    "    A.sort()\n",
    "    for i in range(len(A) - 2):\n",
    "        if A[i] + A[i + 1] > A[i + 2]:\n",
    "            return 1\n",
    "    return 0"
   ]
  },
  {
   "cell_type": "code",
   "execution_count": null,
   "id": "07f03161",
   "metadata": {},
   "outputs": [],
   "source": []
  },
  {
   "cell_type": "code",
   "execution_count": 76,
   "id": "0b5e14f0",
   "metadata": {},
   "outputs": [],
   "source": [
    "def solution(A):\n",
    "    index = 0\n",
    "    max_ = (A[0] + A[1]) / 2\n",
    "    for i in range(len(A) - 1):\n",
    "        avg_2 = (A[i] + A[i + 1]) / 2\n",
    "        if avg_2 < max_:\n",
    "            max_ = avg_2\n",
    "            index = i\n",
    "\n",
    "        if i <= len(A) - 3:\n",
    "            avg_3 = (A[i] + A[i + 1] + A[i + 2]) / 3\n",
    "            if avg_3 < max_:\n",
    "                max_ = avg_3\n",
    "                index = i\n",
    "\n",
    "                \n",
    "    return index"
   ]
  },
  {
   "cell_type": "code",
   "execution_count": 77,
   "id": "b58b6410",
   "metadata": {},
   "outputs": [
    {
     "data": {
      "text/plain": [
       "1"
      ]
     },
     "execution_count": 77,
     "metadata": {},
     "output_type": "execute_result"
    }
   ],
   "source": [
    "A = [4, 2, 2, 5, 1, 5, 8]\n",
    "solution(A)"
   ]
  },
  {
   "cell_type": "markdown",
   "id": "15569ed1",
   "metadata": {},
   "source": [
    "NumberOfDiscIntersections"
   ]
  },
  {
   "cell_type": "code",
   "execution_count": 78,
   "id": "35cd759e",
   "metadata": {},
   "outputs": [],
   "source": [
    "from bisect import bisect_right\n",
    "\n",
    "def number_of_disc_intersections(A):\n",
    "    pairs = 0\n",
    "\n",
    "    # create an array of tuples, each containing the start and end indices of a disk\n",
    "    # some indices may be less than 0 or greater than len(A), this is fine!\n",
    "    # sort the array by the first entry of each tuple: the disk start indices\n",
    "    intervals = sorted( [(i-A[i], i+A[i]) for i in range(len(A))] )\n",
    "\n",
    "    # create an array of starting indices using tuples in intervals\n",
    "    starts = [i[0] for i in intervals]\n",
    "\n",
    "    # for each disk in order of the *starting* position of the disk, not the centre\n",
    "    for i in range(len(starts)):\n",
    "\n",
    "        # find the end position of that disk from the array of tuples\n",
    "        disk_end = intervals[i][1]\n",
    "\n",
    "        # find the index of the rightmost value less than or equal to the interval-end\n",
    "        # this finds the number of disks that have started before disk i ends\n",
    "        count = bisect_right(starts, disk_end )\n",
    "\n",
    "        # subtract current position to exclude previous matches\n",
    "        # this bit seemed 'magic' to me, so I think of it like this...\n",
    "        # for disk i, i disks that start to the left have already been dealt with\n",
    "        # subtract i from count to prevent double counting\n",
    "        # subtract one more to prevent counting the disk itsself\n",
    "        count -= (i+1)\n",
    "        pairs += count\n",
    "        if pairs > 10000000:\n",
    "            return -1\n",
    "    return pairs"
   ]
  },
  {
   "cell_type": "code",
   "execution_count": 79,
   "id": "14b3add2",
   "metadata": {},
   "outputs": [
    {
     "data": {
      "text/plain": [
       "9"
      ]
     },
     "execution_count": 79,
     "metadata": {},
     "output_type": "execute_result"
    }
   ],
   "source": [
    "number_of_disc_intersections([1,5,6,3,2])"
   ]
  },
  {
   "cell_type": "markdown",
   "id": "6f369dd6",
   "metadata": {},
   "source": [
    "codility stonewall python"
   ]
  },
  {
   "cell_type": "code",
   "execution_count": 1,
   "id": "f740b1a7",
   "metadata": {},
   "outputs": [],
   "source": [
    "def solution(H):\n",
    "    # write your code in Python 2.7\n",
    "    N = len(H)\n",
    "\n",
    "    stack = [None] * N\n",
    "    size = 0\n",
    "\n",
    "    blocks = 0\n",
    "    for ind in range(N):\n",
    "        while size > 0 and H[ind] < stack[size - 1]:\n",
    "            size -= 1\n",
    "\n",
    "        if size == 0 or H[ind] != stack[size - 1]:\n",
    "            blocks += 1\n",
    "            stack[size] = H[ind]\n",
    "            size += 1\n",
    "\n",
    "    return blocks"
   ]
  },
  {
   "cell_type": "code",
   "execution_count": 2,
   "id": "d0c3dc08",
   "metadata": {},
   "outputs": [
    {
     "name": "stdout",
     "output_type": "stream",
     "text": [
      "7\n"
     ]
    }
   ],
   "source": [
    "H = [8, 8, 5, 7, 9, 8, 7, 4, 8]\n",
    "print(solution(H))"
   ]
  },
  {
   "cell_type": "markdown",
   "id": "e14a85f8",
   "metadata": {},
   "source": [
    "Fish Codility\n",
    "'''\n",
    "Codility 100%\n",
    "https://app.codility.com/demo/results/trainingF5HTCA-YFV/\n",
    "\n",
    "Idea is to use stack concept\n",
    "For each iteration if current fish is of type 1 add it to stack 1 fish\n",
    "Create stack 1 fish - it always holds the downstream ie 1 kind of fish\n",
    " and keep killing the smaller fish from the list if it is greater\n",
    "  else killed by current fish.\n",
    "Now if stack 1 fish has no fish it means current fish can be counted as remaining fish.\n",
    "\n",
    "\n",
    "0 represents a fish flowing upstream - 0 fish\n",
    "1 represents a fish flowing downstream - 1 fish\n",
    "\n",
    "A[0] = 4    B[0] = 0 alive fish\n",
    "A[1] = 3    B[1] = 1 downstream\n",
    "A[2] = 2    B[2] = 0 eaten by A[1]\n",
    "A[3] = 1    B[3] = 0 eaten by A[1]\n",
    "A[4] = 5    B[4] = 0 eat to A[1] and remain alive\n",
    "\n",
    "'''"
   ]
  },
  {
   "cell_type": "code",
   "execution_count": 100,
   "id": "16391f78",
   "metadata": {},
   "outputs": [],
   "source": [
    "def solution(A, B):\n",
    "    # write your code in Python 3.6\n",
    "    \n",
    "    downstream_stack = []\n",
    "    \n",
    "    n = len(A)\n",
    "    \n",
    "    num_alive = n\n",
    "    \n",
    "    for i in range(n):\n",
    "        \n",
    "        # downstream\n",
    "        if B[i] == 1:\n",
    "            downstream_stack.append( A[i] )\n",
    "        \n",
    "        # upstream\n",
    "        if B[i] == 0:\n",
    "            \n",
    "            while len(downstream_stack) != 0:\n",
    "                pop = downstream_stack.pop( len(downstream_stack)-1 )\n",
    "                if pop >= A[i]:\n",
    "                    num_alive -=1\n",
    "                    downstream_stack.append(pop) # just push back\n",
    "                    break\n",
    "                elif pop < A[i]:\n",
    "                    num_alive -=1\n",
    "                    # keep looping (pop another downstrem fish)\n",
    "        \n",
    "    return num_alive\n",
    "    "
   ]
  },
  {
   "cell_type": "code",
   "execution_count": null,
   "id": "836edef5",
   "metadata": {},
   "outputs": [],
   "source": []
  },
  {
   "cell_type": "code",
   "execution_count": null,
   "id": "7529cdac",
   "metadata": {},
   "outputs": [],
   "source": []
  },
  {
   "cell_type": "markdown",
   "id": "2046fd24",
   "metadata": {},
   "source": [
    "Dominator\n",
    "Find an index of an array such that its value occurs at more than half of indices in the array."
   ]
  },
  {
   "cell_type": "code",
   "execution_count": null,
   "id": "97deadbb",
   "metadata": {},
   "outputs": [],
   "source": []
  },
  {
   "cell_type": "code",
   "execution_count": 108,
   "id": "209bb919",
   "metadata": {},
   "outputs": [],
   "source": [
    "def solution(A):\n",
    "    A_len = len(A)\n",
    "    leader = -1\n",
    "    A.sort() \n",
    "    candidate = A[A_len//2] \n",
    "    candidate_index = 0\n",
    "    for i in range(A_len):\n",
    "        if (A[i] == candidate):\n",
    "            candidate_index += 1\n",
    "\n",
    "    if candidate_index > A_len//2:\n",
    "        leader = candidate\n",
    "    return leader\n"
   ]
  },
  {
   "cell_type": "code",
   "execution_count": 119,
   "id": "2cb2d3d3",
   "metadata": {},
   "outputs": [
    {
     "data": {
      "text/plain": [
       "0"
      ]
     },
     "execution_count": 119,
     "metadata": {},
     "output_type": "execute_result"
    }
   ],
   "source": [
    "solution([3, 4, 3, 2, 3, 0, 2, 2])"
   ]
  },
  {
   "cell_type": "code",
   "execution_count": 118,
   "id": "69492561",
   "metadata": {},
   "outputs": [],
   "source": [
    "def solution(A):\n",
    "    A_len = len(A)\n",
    "    candidate = -1\n",
    "    candidate_count = 0\n",
    "    candidate_index = -1\n",
    "    # Find out a leader candidate\n",
    "    for index in range(A_len):\n",
    "        if candidate_count == 0:\n",
    "            candidate = A[index]\n",
    "            candidate_index = index\n",
    "            candidate_count += 1\n",
    "        else:\n",
    "            if A[index] == candidate:\n",
    "                candidate_count += 1\n",
    "            else:\n",
    "                candidate_count -= 1\n",
    "    # Make sure the candidate is the leader\n",
    "    leader_count = len([number for number in A if number == candidate])\n",
    "    if leader_count <= A_len//2:\n",
    "        # The candidate is not the leader\n",
    "        return 0\n",
    "    else:\n",
    "        leader = candidate\n",
    "    equi_leaders = 0\n",
    "    leader_count_so_far = 0\n",
    "    for index in range(A_len):\n",
    "        if A[index] == leader:\n",
    "            leader_count_so_far += 1\n",
    "        if leader_count_so_far > (index+1)//2 and leader_count-leader_count_so_far > (A_len-index-1)//2:\n",
    "            # Both the head and tail have leaders of the same value\n",
    "            # as \"leader\"\n",
    "            equi_leaders += 1\n",
    "    return equi_leaders"
   ]
  },
  {
   "cell_type": "code",
   "execution_count": 112,
   "id": "fca8d057",
   "metadata": {},
   "outputs": [],
   "source": [
    "def goldenLeader(A):\n",
    "    n = len(A)\n",
    "    size = 0\n",
    "    for k in range(n):\n",
    "        if (size == 0):\n",
    "            size += 1\n",
    "            value = A[k]\n",
    "        else:\n",
    "            if (value != A[k]):\n",
    "                size -= 1\n",
    "            else:\n",
    "                size += 1\n",
    "    candidate = -1\n",
    "    if (size > 0):\n",
    "        candidate = value\n",
    "    leader = -1\n",
    "    count = 0\n",
    "    for k in range(n):\n",
    "        if (A[k] == candidate):\n",
    "            count += 1\n",
    "        if (count > n // 2):\n",
    "            leader = candidate\n",
    "    return leader"
   ]
  },
  {
   "cell_type": "code",
   "execution_count": null,
   "id": "0eb5710e",
   "metadata": {},
   "outputs": [],
   "source": []
  },
  {
   "cell_type": "code",
   "execution_count": 114,
   "id": "dec918d9",
   "metadata": {},
   "outputs": [
    {
     "data": {
      "text/plain": [
       "-1"
      ]
     },
     "execution_count": 114,
     "metadata": {},
     "output_type": "execute_result"
    }
   ],
   "source": [
    "goldenLeader([3, 3, 3, 2, 3, 0, 2, 2])"
   ]
  },
  {
   "cell_type": "markdown",
   "id": "2b575e27",
   "metadata": {},
   "source": [
    "Max Profit Task description\n",
    " A zero-indexed array A consisting of N integers is given. It contains daily prices of a stock share for a period of N consecutive days. If a single share was bought on day P and sold on day Q, where 0 <= P <= Q < N, then the profit of such transaction is equal to A[Q] - A[P], provided that A[Q] >= A[P]. Otherwise, the transaction brings loss of A[P] - A[Q].\n",
    " For example, consider the following array A consisting of six elements such that:\n",
    "  A[0] = 23171\n",
    "  A[1] = 21011\n",
    "   A[2] = 21123\n",
    "   A[3] = 21366\n",
    "   A[4] = 21013\n",
    "   A[5] = 21367\n",
    " If a share was bought on day 0 and sold on day 2, a loss of 2048 would occur because A[2] - A[0] = 21123 - 23171 = -2048. If a share was bought on day 4 and sold on day 5, a profit of 354 would occur because A[5] - A[4] = 21367 - 21013 = 354. Maximum possible profit was 356. It would occur if a share was bought on day 1 and sold on day 5.\n"
   ]
  },
  {
   "cell_type": "code",
   "execution_count": 120,
   "id": "436dfed3",
   "metadata": {},
   "outputs": [
    {
     "data": {
      "text/plain": [
       "9"
      ]
     },
     "execution_count": 120,
     "metadata": {},
     "output_type": "execute_result"
    }
   ],
   "source": [
    "def solution(A):\n",
    "    minimum, maxprofit = float('inf'), 0\n",
    "    for value in A:\n",
    "        minimum = min(value, minimum)\n",
    "        maxprofit = max(value - minimum, maxprofit)\n",
    "    return maxprofit\n",
    "\n",
    "solution([4,5,6,9,1,10])"
   ]
  },
  {
   "cell_type": "code",
   "execution_count": null,
   "id": "0a1e8ff5",
   "metadata": {},
   "outputs": [],
   "source": []
  },
  {
   "cell_type": "code",
   "execution_count": 121,
   "id": "f4ae89a1",
   "metadata": {},
   "outputs": [
    {
     "data": {
      "text/plain": [
       "97"
      ]
     },
     "execution_count": 121,
     "metadata": {},
     "output_type": "execute_result"
    }
   ],
   "source": [
    "def solution(A):\n",
    "\n",
    "    maxslice, ending = -float('inf'), None\n",
    "    for value in A:\n",
    "        ending = value if ending == None else max(value, ending + value)\n",
    "        maxslice = max(ending, maxslice)\n",
    "    return maxslice\n",
    "solution([3, 6, 64, -33, -60, 2, 94, -11, 12])"
   ]
  },
  {
   "cell_type": "code",
   "execution_count": 123,
   "id": "2341fc6f",
   "metadata": {},
   "outputs": [
    {
     "data": {
      "text/plain": [
       "97"
      ]
     },
     "execution_count": 123,
     "metadata": {},
     "output_type": "execute_result"
    }
   ],
   "source": [
    "def solution(A):\n",
    "    max_ending = max_slice =0\n",
    "    for a in A:\n",
    "        max_ending = max(a, max_ending +a)\n",
    "        max_slice = max(max_slice, max_ending)\n",
    "         \n",
    "    return max_slice\n",
    "\n",
    "solution([3, 6, 64, -33, -60, 2, 94, -11, 12])"
   ]
  },
  {
   "cell_type": "markdown",
   "id": "0a8698ee",
   "metadata": {},
   "source": [
    "Max double slice"
   ]
  },
  {
   "cell_type": "code",
   "execution_count": 126,
   "id": "f2173ae0",
   "metadata": {},
   "outputs": [
    {
     "name": "stdout",
     "output_type": "stream",
     "text": [
      "17\n"
     ]
    }
   ],
   "source": [
    "\n",
    "def solution(A):\n",
    "    N = len(A)\n",
    "    starts, ends = [0]  * N, [0] * N\n",
    "    for i in range(1,N-1):\n",
    "        left, right = i, N-i-1\n",
    "        starts[left] = max(starts[left - 1] + A[left], 0)\n",
    "        ends[right] = max(ends[right + 1] + A[right], 0)\n",
    "    return max((starts[i-1] + ends[i+1] for i in range(1, N-1)))\n",
    "\n",
    "A = [3,2,6,-1,4,5,-1,2]\n",
    "print(solution(A))"
   ]
  },
  {
   "cell_type": "markdown",
   "id": "cc172609",
   "metadata": {},
   "source": [
    "minimum perimeter"
   ]
  },
  {
   "cell_type": "code",
   "execution_count": 128,
   "id": "22bafc37",
   "metadata": {},
   "outputs": [
    {
     "data": {
      "text/plain": [
       "22"
      ]
     },
     "execution_count": 128,
     "metadata": {},
     "output_type": "execute_result"
    }
   ],
   "source": [
    "import math\n",
    "\n",
    "def solution(N):\n",
    "    # write your code in Python 3.6\n",
    "    \n",
    "    my_perimeter_list = []\n",
    "    \n",
    "    for n in range( 1, int(math.sqrt(N))+1 ): \n",
    "        if( N % n ==0):\n",
    "            one_side = n\n",
    "            another_side = int( N/n )\n",
    "            perimeter = 2 * (one_side + another_side) \n",
    "            my_perimeter_list.append(perimeter)\n",
    "    \n",
    "    min_perimeter = min( my_perimeter_list )\n",
    "    \n",
    "    return min_perimeter\n",
    "solution(30)"
   ]
  },
  {
   "cell_type": "markdown",
   "id": "5eeb4457",
   "metadata": {},
   "source": [
    "count factors"
   ]
  },
  {
   "cell_type": "code",
   "execution_count": 131,
   "id": "1acbaf63",
   "metadata": {},
   "outputs": [
    {
     "data": {
      "text/plain": [
       "1"
      ]
     },
     "execution_count": 131,
     "metadata": {},
     "output_type": "execute_result"
    }
   ],
   "source": [
    "def solution(N):\n",
    "    cnt = 0\n",
    "    i = 1\n",
    "    while ( i * i <= N):\n",
    "        if (N % i == 0):\n",
    "            if i * i == N:\n",
    "               cnt += 1\n",
    "            else:\n",
    "                cnt += 2\n",
    "        i += 1\n",
    "    return cnt\n",
    "solution(1)"
   ]
  },
  {
   "cell_type": "code",
   "execution_count": 132,
   "id": "a448d8bc",
   "metadata": {},
   "outputs": [],
   "source": [
    "# Chocolate by steps"
   ]
  },
  {
   "cell_type": "code",
   "execution_count": 134,
   "id": "9b646f85",
   "metadata": {},
   "outputs": [],
   "source": [
    "def solution(N, M):\n",
    "    # write your code in Python 3.6\n",
    "    return lcm(N, M) // M\n",
    "\n",
    "def gcd(a, b):\n",
    "    if a % b == 0:\n",
    "        return b\n",
    "    else:\n",
    "        return gcd(b, a % b)\n",
    "        \n",
    "def lcm(a, b):\n",
    "    return a * (b // gcd(a, b))"
   ]
  },
  {
   "cell_type": "code",
   "execution_count": 135,
   "id": "8fe3a74b",
   "metadata": {},
   "outputs": [],
   "source": [
    "# tie ropes"
   ]
  },
  {
   "cell_type": "code",
   "execution_count": null,
   "id": "f455870d",
   "metadata": {},
   "outputs": [],
   "source": [
    "import copy\n",
    "\n",
    "def solution(K, A):\n",
    "    # write your code in Python 3.6\n",
    "    \n",
    "    all_rope_list = []\n",
    "    \n",
    "    current_length = 0\n",
    "    current_rope_list = []\n",
    "    for item in A:\n",
    "        current_length += item\n",
    "        current_rope_list.append(item)\n",
    "        # print(current_length)\n",
    "        if current_length >= K:\n",
    "            current_length = 0\n",
    "            # all_rope_list.append( current_rope_list ) \n",
    "            # very important: need to use 'copy.copy()' for the current list \n",
    "            # print(current_rope_list)\n",
    "            all_rope_list.append( copy.copy(current_rope_list) )\n",
    "            # print(all_rope_list)\n",
    "            current_rope_list.clear()\n",
    "    \n",
    "    num_rope = len(all_rope_list)\n",
    "    return num_rope"
   ]
  },
  {
   "cell_type": "code",
   "execution_count": null,
   "id": "f586c921",
   "metadata": {},
   "outputs": [],
   "source": []
  },
  {
   "cell_type": "code",
   "execution_count": null,
   "id": "0519cb5e",
   "metadata": {},
   "outputs": [],
   "source": []
  },
  {
   "cell_type": "markdown",
   "id": "1d2e990d",
   "metadata": {},
   "source": [
    "extracting numbers from the string list"
   ]
  },
  {
   "cell_type": "code",
   "execution_count": 4,
   "id": "e5e46502",
   "metadata": {},
   "outputs": [
    {
     "name": "stdout",
     "output_type": "stream",
     "text": [
      "[1.1, 3.0, 3.4]\n"
     ]
    }
   ],
   "source": [
    "import re\n",
    "string_var=\"sdw1.1sdf3sdf3.4\"\n",
    "x = [float(x) for x in re.findall(r'-?\\d+\\.?\\d*',string_var)]\n",
    "print(x)"
   ]
  },
  {
   "cell_type": "code",
   "execution_count": null,
   "id": "6b5c9033",
   "metadata": {},
   "outputs": [],
   "source": [
    "#Leetcode challenges"
   ]
  },
  {
   "cell_type": "markdown",
   "id": "0fd44f85",
   "metadata": {},
   "source": [
    "You are given an integer array matchsticks where matchsticks[i] is the length of the ith matchstick. You want to use all the matchsticks to make one square. You should not break any stick, but you can link them up, and each matchstick must be used exactly one time.\n",
    "\n",
    "Return true if you can make this square and false otherwise."
   ]
  },
  {
   "cell_type": "code",
   "execution_count": 14,
   "id": "ad0811a8",
   "metadata": {},
   "outputs": [
    {
     "name": "stdout",
     "output_type": "stream",
     "text": [
      "sides check\n",
      "sides check\n",
      "sides check\n",
      "sides check\n",
      "sides check\n"
     ]
    },
    {
     "data": {
      "text/plain": [
       "True"
      ]
     },
     "execution_count": 14,
     "metadata": {},
     "output_type": "execute_result"
    }
   ],
   "source": [
    "class Solution:\n",
    "    def makesquare(self, matchsticks):\n",
    "        length = sum(matchsticks) // 4\n",
    "        sides = [0] * 4\n",
    "        if sum(matchsticks) / 4 != length:\n",
    "            return False\n",
    "        matchsticks.sort(reverse=True)\n",
    "        \n",
    "        def backtrack(i):\n",
    "            \n",
    "            if i == len(matchsticks):\n",
    "                \n",
    "                #print(matchsticks)\n",
    "                return True\n",
    "            for j in range(4):\n",
    "                if sides[j] + matchsticks[i] <= length:\n",
    "                    print(\"sides check\")\n",
    "                    sides[j] += matchsticks[i]\n",
    "                    if backtrack(i + 1):\n",
    "                        \n",
    "                        return True\n",
    "                    sides[j] -= matchsticks[i]\n",
    "            return False\n",
    "        \n",
    "        return backtrack(0)\n",
    "    \n",
    "sol=Solution()\n",
    "sol.makesquare([1,1,2,2,2])\n",
    "    "
   ]
  },
  {
   "cell_type": "code",
   "execution_count": null,
   "id": "0441b34e",
   "metadata": {},
   "outputs": [],
   "source": []
  }
 ],
 "metadata": {
  "kernelspec": {
   "display_name": "Python 3 (ipykernel)",
   "language": "python",
   "name": "python3"
  },
  "language_info": {
   "codemirror_mode": {
    "name": "ipython",
    "version": 3
   },
   "file_extension": ".py",
   "mimetype": "text/x-python",
   "name": "python",
   "nbconvert_exporter": "python",
   "pygments_lexer": "ipython3",
   "version": "3.9.11"
  }
 },
 "nbformat": 4,
 "nbformat_minor": 5
}
